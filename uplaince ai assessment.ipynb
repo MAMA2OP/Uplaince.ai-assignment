{
 "cells": [
  {
   "cell_type": "code",
   "execution_count": 3,
   "id": "07ef4ed1-a0f9-4cb0-81e3-333a7e05d4c9",
   "metadata": {},
   "outputs": [],
   "source": [
    "import numpy as np\n",
    "import pandas as pd"
   ]
  },
  {
   "cell_type": "code",
   "execution_count": 11,
   "id": "aaa5cb04-cce0-403d-ade2-41212284215f",
   "metadata": {},
   "outputs": [],
   "source": [
    "user_details = pd.read_excel('Data Analyst Intern Assignment - Excel.xlsx', sheet_name='UserDetails.csv')"
   ]
  },
  {
   "cell_type": "code",
   "execution_count": 13,
   "id": "5f2a9aeb-62d4-4065-b3fe-93f5f2ad9df1",
   "metadata": {},
   "outputs": [
    {
     "name": "stdout",
     "output_type": "stream",
     "text": [
      "User ID              0\n",
      "User Name            0\n",
      "Age                  0\n",
      "Location             0\n",
      "Registration Date    0\n",
      "Phone                0\n",
      "Email                0\n",
      "Favorite Meal        0\n",
      "Total Orders         0\n",
      "dtype: int64\n"
     ]
    }
   ],
   "source": [
    "print(user_details.isnull().sum())"
   ]
  },
  {
   "cell_type": "code",
   "execution_count": 45,
   "id": "a636c0fc-9707-4a28-be11-e920508d1b35",
   "metadata": {},
   "outputs": [
    {
     "data": {
      "text/plain": [
       "0"
      ]
     },
     "execution_count": 45,
     "metadata": {},
     "output_type": "execute_result"
    }
   ],
   "source": [
    "user_details.duplicated().sum()"
   ]
  },
  {
   "cell_type": "code",
   "execution_count": 15,
   "id": "c6ada8d2-fbd7-472d-94cf-79cc14bbb25a",
   "metadata": {},
   "outputs": [],
   "source": [
    "cooking_sessions = pd.read_excel('Data Analyst Intern Assignment - Excel.xlsx', sheet_name='CookingSessions.csv')"
   ]
  },
  {
   "cell_type": "code",
   "execution_count": 17,
   "id": "fea44c9d-da22-4991-893e-a4882868dbc0",
   "metadata": {},
   "outputs": [
    {
     "name": "stdout",
     "output_type": "stream",
     "text": [
      "Session ID         0\n",
      "User ID            0\n",
      "Dish Name          0\n",
      "Meal Type          0\n",
      "Session Start      0\n",
      "Session End        0\n",
      "Duration (mins)    0\n",
      "Session Rating     0\n",
      "dtype: int64\n"
     ]
    }
   ],
   "source": [
    "print(cooking_sessions.isnull().sum())"
   ]
  },
  {
   "cell_type": "code",
   "execution_count": 49,
   "id": "40adcc3f-6e1e-4b7f-9911-11e028e86e62",
   "metadata": {},
   "outputs": [],
   "source": [
    "order_details = pd.read_excel('Data Analyst Intern Assignment - Excel.xlsx', sheet_name='OrderDetails.csv')"
   ]
  },
  {
   "cell_type": "code",
   "execution_count": 51,
   "id": "7911ec00-6d18-4785-96dd-166941acd9a0",
   "metadata": {},
   "outputs": [
    {
     "name": "stdout",
     "output_type": "stream",
     "text": [
      "Order ID        0\n",
      "User ID         0\n",
      "Order Date      0\n",
      "Meal Type       0\n",
      "Dish Name       0\n",
      "Order Status    0\n",
      "Amount (USD)    0\n",
      "Time of Day     0\n",
      "Rating          2\n",
      "Session ID      0\n",
      "dtype: int64\n"
     ]
    }
   ],
   "source": [
    "print(order_details.isnull().sum())"
   ]
  },
  {
   "cell_type": "code",
   "execution_count": 53,
   "id": "8b223177-89b4-469c-8211-f06f25411064",
   "metadata": {},
   "outputs": [],
   "source": [
    "order_details = order_details.dropna(subset=['Order ID', 'User ID', 'Dish Name'])"
   ]
  },
  {
   "cell_type": "code",
   "execution_count": 55,
   "id": "88a9810a-76e2-4007-aab8-ae4823f8ed8b",
   "metadata": {},
   "outputs": [],
   "source": [
    "order_details['Rating'] = order_details['Rating'].fillna(order_details['Rating'].mean())"
   ]
  },
  {
   "cell_type": "code",
   "execution_count": 59,
   "id": "03ac2982-ce3f-4499-87e8-eeb9795ae38b",
   "metadata": {},
   "outputs": [],
   "source": [
    "order_details = order_details.drop_duplicates()"
   ]
  },
  {
   "cell_type": "code",
   "execution_count": 61,
   "id": "e85f070b-b59f-49c5-9c16-22e623be2c1b",
   "metadata": {},
   "outputs": [],
   "source": [
    "order_details['Order Date'] = pd.to_datetime(order_details['Order Date'])\n",
    "order_details['Amount (USD)'] = pd.to_numeric(order_details['Amount (USD)'], errors='coerce')\n",
    "order_details['Rating'] = pd.to_numeric(order_details['Rating'], errors='coerce')"
   ]
  },
  {
   "cell_type": "code",
   "execution_count": 63,
   "id": "0dba697e-a098-4592-9251-f0f68dd92398",
   "metadata": {},
   "outputs": [],
   "source": [
    "order_details.to_csv('Cleaned_OrderDetails.csv', index=False)"
   ]
  },
  {
   "cell_type": "code",
   "execution_count": 65,
   "id": "1e7b2e8f-30c5-4e46-b5a5-fa40c722c5ad",
   "metadata": {},
   "outputs": [
    {
     "name": "stdout",
     "output_type": "stream",
     "text": [
      "Order ID        0\n",
      "User ID         0\n",
      "Order Date      0\n",
      "Meal Type       0\n",
      "Dish Name       0\n",
      "Order Status    0\n",
      "Amount (USD)    0\n",
      "Time of Day     0\n",
      "Rating          0\n",
      "Session ID      0\n",
      "dtype: int64\n"
     ]
    }
   ],
   "source": [
    "print(order_details.isnull().sum())"
   ]
  },
  {
   "cell_type": "code",
   "execution_count": 67,
   "id": "8c52a9cd-3367-4371-bef6-f901f6c1c4f7",
   "metadata": {},
   "outputs": [],
   "source": [
    "user_sessions = pd.merge(cooking_sessions, user_details, on='User ID', how='inner')"
   ]
  },
  {
   "cell_type": "code",
   "execution_count": 105,
   "id": "afe04f69-ec66-43a6-bcb7-b737f854f4d5",
   "metadata": {},
   "outputs": [
    {
     "name": "stdout",
     "output_type": "stream",
     "text": [
      "  Session ID User ID_x      Dish Name_x Meal Type_x       Session Start  \\\n",
      "0       S001      U001        Spaghetti      Dinner 2024-12-01 19:00:00   \n",
      "1       S002      U002     Caesar Salad       Lunch 2024-12-01 12:00:00   \n",
      "2       S003      U003  Grilled Chicken      Dinner 2024-12-02 19:30:00   \n",
      "3       S004      U001         Pancakes   Breakfast 2024-12-02 07:30:00   \n",
      "4       S005      U004     Caesar Salad       Lunch 2024-12-03 13:00:00   \n",
      "\n",
      "          Session End  Duration (mins)  Session Rating  Calculated Duration  \\\n",
      "0 2024-12-01 19:30:00               30             4.5                 30.0   \n",
      "1 2024-12-01 12:20:00               20             4.0                 20.0   \n",
      "2 2024-12-02 20:10:00               40             4.8                 40.0   \n",
      "3 2024-12-02 08:00:00               30             4.2                 30.0   \n",
      "4 2024-12-03 13:15:00               15             4.7                 15.0   \n",
      "\n",
      "       User Name  ...  Total Orders Order ID User ID_y Order Date Meal Type_y  \\\n",
      "0  Alice Johnson  ...            12     1001      U001 2024-12-01      Dinner   \n",
      "1      Bob Smith  ...             8     1002      U002 2024-12-01       Lunch   \n",
      "2    Charlie Lee  ...            15     1003      U003 2024-12-02      Dinner   \n",
      "3  Alice Johnson  ...            12     1004      U001 2024-12-02   Breakfast   \n",
      "4    David Brown  ...            10     1005      U004 2024-12-03       Lunch   \n",
      "\n",
      "       Dish Name_y  Order Status  Amount (USD) Time of Day    Rating  \n",
      "0        Spaghetti     Completed          15.0       Night  5.000000  \n",
      "1     Caesar Salad     Completed          10.0         Day  4.000000  \n",
      "2  Grilled Chicken      Canceled          12.5       Night  4.285714  \n",
      "3         Pancakes     Completed           8.0     Morning  4.000000  \n",
      "4     Caesar Salad     Completed           9.0         Day  4.000000  \n",
      "\n",
      "[5 rows x 26 columns]\n"
     ]
    }
   ],
   "source": [
    "merged_data = pd.merge(user_sessions, order_details, on='Session ID', how='inner')\n",
    "print(merged_data.head())"
   ]
  },
  {
   "cell_type": "code",
   "execution_count": 109,
   "id": "3eb62a1c-5bbf-43e9-b576-bc11a865fc2f",
   "metadata": {},
   "outputs": [
    {
     "name": "stdout",
     "output_type": "stream",
     "text": [
      "Index(['Session ID', 'User ID_x', 'Dish Name_x', 'Meal Type_x',\n",
      "       'Session Start', 'Session End', 'Duration (mins)', 'Session Rating',\n",
      "       'Calculated Duration', 'User Name', 'Age', 'Location',\n",
      "       'Registration Date', 'Phone', 'Email', 'Favorite Meal', 'Total Orders',\n",
      "       'Order ID', 'User ID_y', 'Order Date', 'Meal Type_y', 'Dish Name_y',\n",
      "       'Order Status', 'Amount (USD)', 'Time of Day', 'Rating'],\n",
      "      dtype='object')\n"
     ]
    }
   ],
   "source": [
    "print(merged_data.columns)"
   ]
  },
  {
   "cell_type": "markdown",
   "id": "6bf521cf-cf7e-44df-bdfc-93f53adc176c",
   "metadata": {},
   "source": [
    "### (a) Relationship Between Cooking Sessions and Orders"
   ]
  },
  {
   "cell_type": "code",
   "execution_count": 112,
   "id": "6f32c17a-bf15-4e3e-80b8-0e462ac868a3",
   "metadata": {},
   "outputs": [
    {
     "name": "stdout",
     "output_type": "stream",
     "text": [
      "Correlation between session and order ratings:\n",
      "                Session Rating   Rating\n",
      "Session Rating         1.00000  0.61151\n",
      "Rating                 0.61151  1.00000\n"
     ]
    }
   ],
   "source": [
    "correlation = merged_data[['Session Rating', 'Rating']].corr()\n",
    "print(\"Correlation between session and order ratings:\")\n",
    "print(correlation)"
   ]
  },
  {
   "cell_type": "markdown",
   "id": "c15250c1-fa3b-4d0c-92d9-db7f942f9e0c",
   "metadata": {},
   "source": [
    "### (b) Identify Popular Dishes"
   ]
  },
  {
   "cell_type": "code",
   "execution_count": 115,
   "id": "2469fb4a-f211-4f15-8d7f-2d83460cd11a",
   "metadata": {},
   "outputs": [
    {
     "name": "stdout",
     "output_type": "stream",
     "text": [
      "Most popular dishes:\n",
      "                 total_orders  avg_rating\n",
      "Dish Name_x                              \n",
      "Grilled Chicken             4    4.775000\n",
      "Spaghetti                   4    4.625000\n",
      "Caesar Salad                3    4.366667\n",
      "Pancakes                    2    4.400000\n",
      "Veggie Burger               2    4.350000\n"
     ]
    }
   ],
   "source": [
    "popular_dishes = merged_data.groupby('Dish Name_x').agg(\n",
    "    total_orders=('Order ID', 'count'),\n",
    "    avg_rating=('Session Rating', 'mean')).sort_values(by='total_orders', ascending=False)\n",
    "\n",
    "print(\"Most popular dishes:\")\n",
    "print(popular_dishes.head())\n"
   ]
  },
  {
   "cell_type": "markdown",
   "id": "abe968e6-a641-47b3-9e5f-94060618f3b2",
   "metadata": {},
   "source": [
    "### (c) Demographic Insights"
   ]
  },
  {
   "cell_type": "code",
   "execution_count": 121,
   "id": "5abce2db-d923-45aa-9ed1-4ed14d617203",
   "metadata": {},
   "outputs": [
    {
     "name": "stdout",
     "output_type": "stream",
     "text": [
      "Orders by location:\n",
      "Location\n",
      "Austin           1\n",
      "Boston           1\n",
      "Chicago          3\n",
      "Los Angeles      3\n",
      "Miami            1\n",
      "New York         3\n",
      "San Francisco    2\n",
      "Seattle          2\n",
      "Name: Order ID, dtype: int64\n"
     ]
    }
   ],
   "source": [
    "orders_by_location = merged_data.groupby('Location')['Order ID'].count()\n",
    "print(\"Orders by location:\")\n",
    "print(orders_by_location)\n"
   ]
  },
  {
   "cell_type": "markdown",
   "id": "5e7cc155-6185-48fc-8fc4-fcd53fdbe87e",
   "metadata": {},
   "source": [
    "## Visualizations"
   ]
  },
  {
   "cell_type": "markdown",
   "id": "e1a1769c-ee13-4eba-817e-bc6b1078c98e",
   "metadata": {},
   "source": [
    " Popular Dishes"
   ]
  },
  {
   "cell_type": "code",
   "execution_count": 123,
   "id": "716e4d82-fa66-41d3-a0a5-f8e3f7adf999",
   "metadata": {},
   "outputs": [
    {
     "data": {
      "image/png": "[encoded data removed]",
      "text/plain": [
       "<Figure size 640x480 with 1 Axes>"
      ]
     },
     "metadata": {},
     "output_type": "display_data"
    }
   ],
   "source": [
    "import seaborn as sns\n",
    "import matplotlib.pyplot as plt\n",
    "\n",
    "sns.barplot(x=popular_dishes.index[:5], y=popular_dishes['total_orders'][:5])\n",
    "plt.title('Top 5 Popular Dishes')\n",
    "plt.xlabel('Dish Name_x')\n",
    "plt.ylabel('Total Orders')\n",
    "plt.xticks(rotation=45)\n",
    "plt.show()\n"
   ]
  },
  {
   "cell_type": "markdown",
   "id": "aec49b71-96df-4a66-9b94-425bf3927478",
   "metadata": {},
   "source": [
    "Demographic Analysis"
   ]
  },
  {
   "cell_type": "code",
   "execution_count": 126,
   "id": "381bd413-7e51-4a97-9dc4-7c27604e7027",
   "metadata": {},
   "outputs": [
    {
     "data": {
      "image/png": "[encoded data removed]",
      "text/plain": [
       "<Figure size 640x480 with 1 Axes>"
      ]
     },
     "metadata": {},
     "output_type": "display_data"
    }
   ],
   "source": [
    "merged_data.groupby('Age')['Order ID'].count().plot(kind='bar')\n",
    "plt.title('Orders by Age')\n",
    "plt.xlabel('Age')\n",
    "plt.ylabel('Total Orders')\n",
    "plt.show()\n"
   ]
  },
  {
   "cell_type": "code",
   "execution_count": 132,
   "id": "89b3bcdc-5cc2-44c5-9220-f54d67f5904f",
   "metadata": {},
   "outputs": [
    {
     "data": {
      "image/png": "[encoded data removed]",
      "text/plain": [
       "<Figure size 640x480 with 1 Axes>"
      ]
     },
     "metadata": {},
     "output_type": "display_data"
    }
   ],
   "source": [
    "merged_data.groupby('Location')['Order ID'].count().plot(kind='bar')\n",
    "plt.title('Order by Location')\n",
    "plt.xlabel('Location')\n",
    "plt.ylabel('Number of Orders')\n",
    "plt.show()"
   ]
  },
  {
   "cell_type": "code",
   "execution_count": null,
   "id": "953296c6-fd9c-4540-bd53-bfb138035e58",
   "metadata": {},
   "outputs": [],
   "source": []
  }
 ],
 "metadata": {
  "kernelspec": {
   "display_name": "Python 3 (ipykernel)",
   "language": "python",
   "name": "python3"
  },
  "language_info": {
   "codemirror_mode": {
    "name": "ipython",
    "version": 3
   },
   "file_extension": ".py",
   "mimetype": "text/x-python",
   "name": "python",
   "nbconvert_exporter": "python",
   "pygments_lexer": "ipython3",
   "version": "3.12.4"
  }
 },
 "nbformat": 4,
 "nbformat_minor": 5
}
